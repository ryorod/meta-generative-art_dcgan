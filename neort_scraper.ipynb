{
  "nbformat": 4,
  "nbformat_minor": 0,
  "metadata": {
    "colab": {
      "name": "neort_scraper.ipynb",
      "provenance": [],
      "collapsed_sections": [],
      "authorship_tag": "ABX9TyNtY7cIh4Db0KSw4DEi5qpY",
      "include_colab_link": true
    },
    "kernelspec": {
      "name": "python3",
      "display_name": "Python 3"
    }
  },
  "cells": [
    {
      "cell_type": "markdown",
      "metadata": {
        "id": "view-in-github",
        "colab_type": "text"
      },
      "source": [
        "<a href=\"https://colab.research.google.com/github/ryorod/meta-generative-art_dcgan/blob/master/neort_scraper.ipynb\" target=\"_parent\"><img src=\"https://colab.research.google.com/assets/colab-badge.svg\" alt=\"Open In Colab\"/></a>"
      ]
    },
    {
      "cell_type": "code",
      "metadata": {
        "id": "7yG6EnrYsIyN"
      },
      "source": [
        "!apt-get update\r\n",
        "!apt install chromium-chromedriver\r\n",
        "!cp /usr/lib/chromium-browser/chromedriver /usr/bin"
      ],
      "execution_count": null,
      "outputs": []
    },
    {
      "cell_type": "code",
      "metadata": {
        "id": "czGGWInatNVG"
      },
      "source": [
        "!pip install selenium"
      ],
      "execution_count": null,
      "outputs": []
    },
    {
      "cell_type": "code",
      "metadata": {
        "id": "Rznm8BuxfW3W"
      },
      "source": [
        "# 参考: https://www.tomotaku.com/python-scraping-img/"
      ],
      "execution_count": null,
      "outputs": []
    },
    {
      "cell_type": "code",
      "metadata": {
        "id": "l4C06h7htTQF"
      },
      "source": [
        "import os\r\n",
        "from time import sleep\r\n",
        " \r\n",
        "import requests\r\n",
        "from selenium import webdriver\r\n",
        "from selenium.webdriver.chrome.options import Options\r\n",
        " \r\n",
        " \r\n",
        "# 1枚の画像を保存する関数\r\n",
        "def save_img(url, file_path):\r\n",
        "    r = requests.get(url, stream=True)\r\n",
        " \r\n",
        "    if r.status_code == 200:\r\n",
        "        with open(file_path, \"wb\") as f:\r\n",
        "            f.write(r.content)\r\n",
        " \r\n",
        " \r\n",
        "# 複数の画像のダウンロードを行う関数\r\n",
        "def download_imgs(img_urls, save_dir, tag):\r\n",
        "    for i, url in enumerate(img_urls):\r\n",
        "        file_name = f\"{tag}_{i}.png\"  # 画像ファイル名\r\n",
        "        save_img_path = os.path.join(save_dir, file_name)  # 保存パス\r\n",
        " \r\n",
        "        save_img(url, save_img_path)  # 画像の保存\r\n",
        " \r\n",
        "        if (i + 1) % 10 == 0 or (i + 1) == len(img_urls):\r\n",
        "            print(f\"{i + 1} / {len(img_urls)} done\")"
      ],
      "execution_count": null,
      "outputs": []
    },
    {
      "cell_type": "code",
      "metadata": {
        "id": "k66O1oAi5qVX"
      },
      "source": [
        "from google.colab import drive\r\n",
        "drive.mount('./drive')"
      ],
      "execution_count": null,
      "outputs": []
    },
    {
      "cell_type": "code",
      "metadata": {
        "id": "lu1Fmz6k6EUl"
      },
      "source": [
        "save_dir = \"./drive/MyDrive/neort_dataset\"  # スクレイピングした画像を保存するディレクトリパス\r\n",
        " \r\n",
        "# ディレクトリが存在しなければ作成する\r\n",
        "if not os.path.exists(save_dir):\r\n",
        "    os.makedirs(save_dir)"
      ],
      "execution_count": null,
      "outputs": []
    },
    {
      "cell_type": "code",
      "metadata": {
        "id": "H-hjX7lu69NP"
      },
      "source": [
        "# Webdriverの設定\r\n",
        "options = Options()\r\n",
        "options.add_argument('--headless')   # UI無しで操作する\r\n",
        "options.add_argument('--no-sandbox')\r\n",
        "options.add_argument('--disable-dev-shm-usage')\r\n",
        "driver = webdriver.Chrome('chromedriver',options=options)  # WebDriverのパスを設定"
      ],
      "execution_count": null,
      "outputs": []
    },
    {
      "cell_type": "code",
      "metadata": {
        "id": "JyvK7sqp7ml3"
      },
      "source": [
        "urls = []\r\n",
        "\r\n",
        "# NEORT へアクセス\r\n",
        "root_urls = {'p5js': \"https://neort.io/tag/bmjb2ss3p9f7m1g01690\", 'glsl': \"https://neort.io/tag/bmj9c1c3p9fdr6916krg\", 'openframeworks': \"https://neort.io/tag/bmjc0643p9f7m1g01ebg\", 'processing': \"https://neort.io/tag/bmjb2ss3p9f7m1g0169g\", 'touchdesigner': \"https://neort.io/tag/bmj9a6k3p9fdr6916kp0\", 'webgl': \"https://neort.io/tag/bmk0qi43p9f7m1g01q1g\", 'unity': \"https://neort.io/tag/bmjbksc3p9f7m1g01c20\", 'raymarching': \"https://neort.io/tag/bmjbjcc3p9f7m1g018tg\", 'dailycodingchallenge': \"https://neort.io/tag/bq1sj0k3p9fefb926mp0\"}\r\n",
        "\r\n",
        "for tag in root_urls:\r\n",
        "  prev_num_urls = len(urls)\r\n",
        "\r\n",
        "  driver.get(root_urls[tag])  # 指定したURLへアクセス\r\n",
        "\r\n",
        "  # 止まるまでスクロールする\r\n",
        "  while True:\r\n",
        "      prev_html = driver.page_source  # スクロール前のソースコード\r\n",
        "      driver.execute_script(\"window.scrollTo(0, document.body.scrollHeight);\")  # 最下部までスクロール\r\n",
        "      sleep(1.0)   # 1秒待機\r\n",
        "      current_html = driver.page_source  # スクロール後のソースコード\r\n",
        " \r\n",
        "      # スクロールの前後で変化が無ければループを抜ける\r\n",
        "      if prev_html != current_html:\r\n",
        "          prev_html = current_html\r\n",
        "      else:\r\n",
        "          break\r\n",
        "\r\n",
        "  # 画像タグをすべて取得\r\n",
        "  elements = driver.find_elements_by_class_name(\"thumb\")\r\n",
        " \r\n",
        "  # すべての画像URLを抜き出す\r\n",
        "  for elem in elements:\r\n",
        "      url = elem.get_attribute(\"data-src\")\r\n",
        " \r\n",
        "      if url not in urls and type(url) is str :\r\n",
        "          urls.append(url)  # urlをリストに追加する\r\n",
        "          print(url)\r\n",
        "\r\n",
        "  urls2download = urls[prev_num_urls:]\r\n",
        "  print(len(urls2download))\r\n",
        "  download_imgs(urls2download, save_dir, tag)   # 画像をダウンロードする\r\n",
        "\r\n",
        "driver.close()   # driverをクローズする"
      ],
      "execution_count": null,
      "outputs": []
    }
  ]
}